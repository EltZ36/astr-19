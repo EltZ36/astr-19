{
 "cells": [
  {
   "cell_type": "code",
   "execution_count": null,
   "id": "d7bfdb37-0a4c-48e6-a885-416ba2022e88",
   "metadata": {},
   "outputs": [],
   "source": [
    "import numpy as np \n",
    "import matplotlib.pyplot as plt"
   ]
  },
  {
   "cell_type": "markdown",
   "id": "9ac5d21f-e5bb-4765-9819-1595b526343f",
   "metadata": {},
   "source": [
    "Function to generate the random histogram plot "
   ]
  },
  {
   "cell_type": "code",
   "execution_count": null,
   "id": "3c8d8c0f-d5e4-47c5-bc2f-b3336b3edb1b",
   "metadata": {},
   "outputs": [],
   "source": [
    "def rand_hist():\n",
    "    #pull 1,000 random numbers from 0 to 1 from the uniform distribution \n",
    "    x = np.random.uniform(0,1,1000)\n",
    "    num_bins = 100\n",
    "    plt.hist(x, bins = num_bins, alpha = 0.5, edgecolor = \"black\")\n",
    "    plt.xlabel(\"x\")\n",
    "    plt.ylabel(\"number of bins\")\n",
    "    plt.savefig(\"rand_hist.pdf\", bbox_inches = \"tight\", facecolor = \"white\")    "
   ]
  },
  {
   "cell_type": "markdown",
   "id": "30f78d85-9c9d-4a33-a707-e0d7a47c6574",
   "metadata": {},
   "source": [
    "Main function to run and plot the histogram"
   ]
  },
  {
   "cell_type": "code",
   "execution_count": null,
   "id": "8c85745d-fd24-4513-b87c-207d099259f2",
   "metadata": {},
   "outputs": [],
   "source": [
    "def main():\n",
    "    rand_hist()\n",
    "\n",
    "if __name__ == \"__main__\":\n",
    "    main()"
   ]
  }
 ],
 "metadata": {
  "kernelspec": {
   "display_name": "Python 3 (ipykernel)",
   "language": "python",
   "name": "python3"
  },
  "language_info": {
   "codemirror_mode": {
    "name": "ipython",
    "version": 3
   },
   "file_extension": ".py",
   "mimetype": "text/x-python",
   "name": "python",
   "nbconvert_exporter": "python",
   "pygments_lexer": "ipython3",
   "version": "3.9.7"
  }
 },
 "nbformat": 4,
 "nbformat_minor": 5
}
