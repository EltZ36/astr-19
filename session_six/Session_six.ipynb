{
 "cells": [
  {
   "cell_type": "markdown",
   "id": "6d6c47bb-59ef-4c8b-9617-11778e7c9543",
   "metadata": {},
   "source": [
    "Executes and imports needed libraries "
   ]
  },
  {
   "cell_type": "code",
   "execution_count": null,
   "id": "83f03332-063b-4e03-bcb3-b9c152950587",
   "metadata": {},
   "outputs": [],
   "source": [
    "import numpy as np \n",
    "from astropy.table import Table #import the Table class\n",
    "from astropy.io import ascii # ascii plain text io\n",
    "from astropy.io import fits"
   ]
  },
  {
   "cell_type": "markdown",
   "id": "c726e4c2-74fa-4d02-a24e-cfa4f1a14bbb",
   "metadata": {},
   "source": [
    "Function that returns sin(x) given an int or float x "
   ]
  },
  {
   "cell_type": "code",
   "execution_count": null,
   "id": "05c0a6fd-3868-492b-8293-78e4ad60632e",
   "metadata": {},
   "outputs": [],
   "source": [
    "def my_sin(x):\n",
    "    return np.sin(x) "
   ]
  },
  {
   "cell_type": "markdown",
   "id": "10df1cf4-479a-4406-b2d6-37fc5d849afc",
   "metadata": {},
   "source": [
    "Function that returns cos(x) given an int or float x "
   ]
  },
  {
   "cell_type": "code",
   "execution_count": null,
   "id": "409a1d8e-b6b7-4b76-af53-afe096cc0fea",
   "metadata": {},
   "outputs": [],
   "source": [
    "def my_cos(x):\n",
    "    return np.cos(x) "
   ]
  },
  {
   "cell_type": "markdown",
   "id": "47ac1ebb-dd0a-4879-a4e2-ff02ce21104c",
   "metadata": {},
   "source": [
    "Function that tables together sin(x) and cos(x) as a text file "
   ]
  },
  {
   "cell_type": "code",
   "execution_count": null,
   "id": "ed49b2c6-7105-471f-b931-bf20aed166e5",
   "metadata": {},
   "outputs": [],
   "source": [
    "def table(): \n",
    "    x = np.linspace(0,2 * np.pi ,1000) \n",
    "    data = Table([x, my_sin(x),my_cos(x)],names=['x', 'sin(x)','cos(x)']) \n",
    "    ascii.write(data, 'sincos.txt', format='commented_header', overwrite=True) \n",
    "    data_in = ascii.read('sincos.txt')\n",
    "    #return the table\n",
    "    return data "
   ]
  },
  {
   "cell_type": "markdown",
   "id": "be1ae0d8-c1fa-4372-a60e-a7d1b6a26526",
   "metadata": {},
   "source": [
    "Function that does a for loop to print the first 10 values of x, sin(x), cos(x) "
   ]
  },
  {
   "cell_type": "markdown",
   "id": "01c39c04-09d2-4502-b0b0-63d519bdd011",
   "metadata": {},
   "source": [
    "Main function for execution  "
   ]
  },
  {
   "cell_type": "code",
   "execution_count": null,
   "id": "ebbfb545-1d68-45c8-8431-5c9e1508d4cd",
   "metadata": {},
   "outputs": [],
   "source": [
    "def main():\n",
    "    t = table()\n",
    "    #for loop version \n",
    "    for i in range(10): \n",
    "        print(t[i])\n",
    "    print(\" \")\n",
    "    #more 'elegant version'\n",
    "    print(t[0:10])\n",
    "\n",
    "if __name__ == \"__main__\":\n",
    "    main() "
   ]
  },
  {
   "cell_type": "code",
   "execution_count": null,
   "id": "fc0af575-269b-4ae3-97df-cd16adac51c9",
   "metadata": {},
   "outputs": [],
   "source": []
  }
 ],
 "metadata": {
  "kernelspec": {
   "display_name": "Python 3 (ipykernel)",
   "language": "python",
   "name": "python3"
  },
  "language_info": {
   "codemirror_mode": {
    "name": "ipython",
    "version": 3
   },
   "file_extension": ".py",
   "mimetype": "text/x-python",
   "name": "python",
   "nbconvert_exporter": "python",
   "pygments_lexer": "ipython3",
   "version": "3.9.7"
  }
 },
 "nbformat": 4,
 "nbformat_minor": 5
}
