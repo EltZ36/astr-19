{
 "cells": [
  {
   "cell_type": "code",
   "execution_count": null,
   "id": "f25f7822-3f80-4102-9bdf-23c370a3956d",
   "metadata": {},
   "outputs": [],
   "source": [
    "import numpy as np \n",
    "import matplotlib.pyplot as plt "
   ]
  },
  {
   "cell_type": "code",
   "execution_count": null,
   "id": "00daf0cb-b01e-47d0-91b3-f91a7cf9bdb0",
   "metadata": {},
   "outputs": [],
   "source": [
    "arr_x = np.linspace(0,1,100) \n",
    "def my_exp(x):\n",
    "    return np.exp(x) "
   ]
  },
  {
   "cell_type": "code",
   "execution_count": null,
   "id": "a14c1c7e-ab06-4fd8-89b9-aa8b749c57e6",
   "metadata": {},
   "outputs": [],
   "source": [
    "y = my_exp(arr_x) \n",
    "plt.plot(arr_x,y) \n",
    "plt.xlabel('Time [milliseconds]')\n",
    "plt.ylabel(\"Awesomeness\")\n",
    "plt.savefig('x_vs_y.pdf',dpi = 600)"
   ]
  },
  {
   "cell_type": "code",
   "execution_count": null,
   "id": "eefcd855-5e3e-4fc6-a657-c767a2d198b4",
   "metadata": {},
   "outputs": [],
   "source": []
  }
 ],
 "metadata": {
  "kernelspec": {
   "display_name": "Python 3 (ipykernel)",
   "language": "python",
   "name": "python3"
  },
  "language_info": {
   "codemirror_mode": {
    "name": "ipython",
    "version": 3
   },
   "file_extension": ".py",
   "mimetype": "text/x-python",
   "name": "python",
   "nbconvert_exporter": "python",
   "pygments_lexer": "ipython3",
   "version": "3.9.7"
  }
 },
 "nbformat": 4,
 "nbformat_minor": 5
}
