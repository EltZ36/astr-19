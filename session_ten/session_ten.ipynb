{
 "cells": [
  {
   "cell_type": "code",
   "execution_count": null,
   "id": "77a8b6b9-e3aa-4a77-92ab-1aa613a874e1",
   "metadata": {},
   "outputs": [],
   "source": [
    "import numpy as np \n",
    "import matplotlib.pyplot as plt\n",
    "import random as rand"
   ]
  },
  {
   "cell_type": "markdown",
   "id": "cbb56373-66c6-4e43-9fe1-ff4142acfae7",
   "metadata": {},
   "source": [
    "Function to generate the random histogram plot from a noncentral chi-square distribution."
   ]
  },
  {
   "cell_type": "code",
   "execution_count": null,
   "id": "fbc51dd8-0a82-41a7-a36f-a2d16110ad00",
   "metadata": {},
   "outputs": [],
   "source": [
    "def chi_hist():\n",
    "    #random for degrees of freedom from 0.0 to 1.0 \n",
    "    rand_free = rand.random()\n",
    "    #random for noncentrality from 0.0  to 30.0 \n",
    "    rand_noncent = rand.uniform(0.0, 30.0)\n",
    "    #pull 1,000 random numbers from the noncentral chi-square distribution \n",
    "    x = np.random.noncentral_chisquare(rand_free,rand_noncent,1000)\n",
    "    num_bins = 100\n",
    "    plt.hist(x, bins = num_bins, alpha = 0.5, edgecolor = \"black\")\n",
    "    plt.xlabel(\"x\")\n",
    "    plt.ylabel(\"number of bins\")\n",
    "    plt.savefig(\"rand_hist.pdf\", bbox_inches = \"tight\", facecolor = \"white\")    "
   ]
  },
  {
   "cell_type": "markdown",
   "id": "14f75d67-300d-42a6-aa54-3a26a88625e9",
   "metadata": {},
   "source": [
    "Main function to run and plot the histogram"
   ]
  },
  {
   "cell_type": "code",
   "execution_count": null,
   "id": "3735c7ca-002d-4d9b-9011-d1b7769fa8cd",
   "metadata": {
    "scrolled": true
   },
   "outputs": [],
   "source": [
    "def main():\n",
    "    chi_hist()\n",
    "\n",
    "if __name__ == \"__main__\":\n",
    "    main()"
   ]
  },
  {
   "cell_type": "code",
   "execution_count": null,
   "id": "98d3baf6-8878-4c50-917c-0c855c948d02",
   "metadata": {},
   "outputs": [],
   "source": []
  }
 ],
 "metadata": {
  "kernelspec": {
   "display_name": "Python 3 (ipykernel)",
   "language": "python",
   "name": "python3"
  },
  "language_info": {
   "codemirror_mode": {
    "name": "ipython",
    "version": 3
   },
   "file_extension": ".py",
   "mimetype": "text/x-python",
   "name": "python",
   "nbconvert_exporter": "python",
   "pygments_lexer": "ipython3",
   "version": "3.9.7"
  }
 },
 "nbformat": 4,
 "nbformat_minor": 5
}
